{
 "cells": [
  {
   "cell_type": "code",
   "execution_count": 3,
   "metadata": {
    "collapsed": false
   },
   "outputs": [],
   "source": [
    "import featureExtraction\n",
    "import numpy as np\n",
    "import librosa\n",
    "import MFCC\n",
    "import cPickle\n"
   ]
  },
  {
   "cell_type": "code",
   "execution_count": 32,
   "metadata": {
    "collapsed": false
   },
   "outputs": [],
   "source": [
    "array=np.loadtxt(open(\"/home/omer/Desktop/UrbanSound8K/UrbanSound8K/audio/Data_Gunshot.csv\", \"r\"), delimiter=\",\", skiprows=1)"
   ]
  },
  {
   "cell_type": "code",
   "execution_count": 33,
   "metadata": {
    "collapsed": false
   },
   "outputs": [
    {
     "name": "stdout",
     "output_type": "stream",
     "text": [
      "(774, 61)\n"
     ]
    }
   ],
   "source": [
    "print array.shape"
   ]
  },
  {
   "cell_type": "code",
   "execution_count": 34,
   "metadata": {
    "collapsed": false,
    "scrolled": true
   },
   "outputs": [],
   "source": [
    "\n",
    "np.random.shuffle(array)\n",
    "X_train=array[:600,1:]\n",
    "\n",
    "    \n",
    "y_train=array[:600,0]\n",
    "X_test=array[600:,1:]\n",
    "y_test=array[600:,0]\n",
    "#print y_test"
   ]
  },
  {
   "cell_type": "code",
   "execution_count": 35,
   "metadata": {
    "collapsed": false
   },
   "outputs": [
    {
     "name": "stdout",
     "output_type": "stream",
     "text": [
      "started\n",
      "SVC(C=10, cache_size=200, class_weight=None, coef0=0.0,\n",
      "  decision_function_shape=None, degree=3, gamma=0.0002, kernel='rbf',\n",
      "  max_iter=-1, probability=False, random_state=None, shrinking=True,\n",
      "  tol=0.001, verbose=False)\n",
      "trained\n"
     ]
    }
   ],
   "source": [
    "print \"started\"\n",
    "from sklearn.model_selection import GridSearchCV\n",
    "from sklearn import svm\n",
    "\n",
    "\n",
    "parameters = {'kernel':['rbf'], 'C':[ 10,40,60],'gamma':[0.001,0.007,0.0002,0.0003,0.0009]}\n",
    "svr = svm.SVC()\n",
    "\n",
    "clf =GridSearchCV(svr, parameters)\n",
    "clf.fit(X_train, y_train)\n",
    "\n",
    "print clf.best_estimator_\n",
    "\n",
    "print \"trained\""
   ]
  },
  {
   "cell_type": "code",
   "execution_count": 42,
   "metadata": {
    "collapsed": false
   },
   "outputs": [
    {
     "name": "stdout",
     "output_type": "stream",
     "text": [
      "Accuracy on test set is :  98.0 %\n"
     ]
    }
   ],
   "source": [
    "print \"Accuracy on test set is : \",round(clf.score(X_test,y_test),2)*100 ,\"%\""
   ]
  },
  {
   "cell_type": "code",
   "execution_count": 39,
   "metadata": {
    "collapsed": false
   },
   "outputs": [],
   "source": [
    "\n",
    "# save the classifier\n",
    "with open('my_dumped_classifier.pkl', 'wb') as fid:\n",
    "    cPickle.dump(clf, fid)    \n",
    "\n"
   ]
  },
  {
   "cell_type": "code",
   "execution_count": null,
   "metadata": {
    "collapsed": false
   },
   "outputs": [],
   "source": [
    "from sklearn_porter import Porter\n",
    "porter = Porter(clf, language='java')\n",
    "output = porter.export()\n"
   ]
  },
  {
   "cell_type": "code",
   "execution_count": 40,
   "metadata": {
    "collapsed": false
   },
   "outputs": [
    {
     "name": "stdout",
     "output_type": "stream",
     "text": [
      "[ 1.]\n",
      "[ 1.]\n",
      "[ 1.]\n",
      "[ 1.]\n",
      "[ 0.]\n",
      "[ 0.]\n",
      "[ 1.]\n",
      "Benazir_Assasinaiton.wav :         GUNSHOT Detected\n"
     ]
    }
   ],
   "source": [
    "\n",
    "with open('my_dumped_classifier.pkl', 'rb') as fid:\n",
    "    clf = cPickle.load(fid)\n",
    "y,sr=librosa.load(\"/home/omer/Desktop/Benazir_Assasinatio_0n.wav\")\n",
    "mfcc=librosa.feature.mfcc(y=y,sr=sr,n_mfcc=60).T\n",
    "\n",
    "i=0\n",
    "#print clf.predict(np.mean(mfcc,0).reshape(1,60))\n",
    "while (i<=mfcc.shape[0]):\n",
    "    #print i\n",
    "    current=np.mean(mfcc[i:i+100,:],0).reshape(1,60)\n",
    "    found=False\n",
    "    print clf.predict(current)\n",
    "    if 1== clf.predict(current):\n",
    "        found=True\n",
    "    \n",
    "    i+=50\n",
    "\n",
    "if(found):\n",
    "    print \"Benazir_Assasinaiton.wav :         GUNSHOT Detected\"\n",
    "else:\n",
    "    print   \"Benazir_Assasinaiton.wav :         NO GUNSHOT Detected\"\n",
    "\n",
    "\n",
    "\n"
   ]
  },
  {
   "cell_type": "code",
   "execution_count": null,
   "metadata": {
    "collapsed": true
   },
   "outputs": [],
   "source": []
  }
 ],
 "metadata": {
  "kernelspec": {
   "display_name": "Python 2",
   "language": "python",
   "name": "python2"
  },
  "language_info": {
   "codemirror_mode": {
    "name": "ipython",
    "version": 2
   },
   "file_extension": ".py",
   "mimetype": "text/x-python",
   "name": "python",
   "nbconvert_exporter": "python",
   "pygments_lexer": "ipython2",
   "version": "2.7.13"
  }
 },
 "nbformat": 4,
 "nbformat_minor": 2
}
